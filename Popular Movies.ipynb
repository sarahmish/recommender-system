{
 "cells": [
  {
   "cell_type": "code",
   "execution_count": 1,
   "metadata": {},
   "outputs": [],
   "source": [
    "import math\n",
    "import random\n",
    "import numpy as np\n",
    "import pandas as pd\n",
    "\n",
    "from operator import itemgetter\n",
    "from collections import defaultdict\n",
    "from sklearn.model_selection import cross_validate as cv\n",
    "from sklearn.metrics.pairwise import pairwise_distances"
   ]
  },
  {
   "cell_type": "code",
   "execution_count": 2,
   "metadata": {},
   "outputs": [],
   "source": [
    "# preset\n",
    "\n",
    "dataset_path = 'ml-100k'\n",
    "test_size = 0.2\n",
    "model_type = 'Random'"
   ]
  },
  {
   "cell_type": "code",
   "execution_count": 3,
   "metadata": {},
   "outputs": [],
   "source": [
    "df = pd.read_csv('ml-data/ratings.csv', sep=',')\n",
    "movie_titles = pd.read_csv('ml-data/movies.csv')\n",
    "\n",
    "df = pd.merge(df, movie_titles, on='movieId')"
   ]
  },
  {
   "cell_type": "code",
   "execution_count": 4,
   "metadata": {},
   "outputs": [
    {
     "name": "stdout",
     "output_type": "stream",
     "text": [
      "Number of users = 610 | Number of movies = 9724\n"
     ]
    }
   ],
   "source": [
    "n_users = df.userId.unique().shape[0]\n",
    "n_items = df.movieId.unique().shape[0]\n",
    "print('Number of users = ' + str(n_users) + ' | Number of movies = ' + str(n_items))"
   ]
  },
  {
   "cell_type": "code",
   "execution_count": 5,
   "metadata": {},
   "outputs": [
    {
     "name": "stdout",
     "output_type": "stream",
     "text": [
      "train set size = 80611\n",
      "test set size = 20225\n",
      "\n"
     ]
    }
   ],
   "source": [
    "# split test train\n",
    "\n",
    "train, test = defaultdict(dict), defaultdict(dict)\n",
    "trainset_len = 0\n",
    "testset_len = 0\n",
    "for _, row in df.iterrows():\n",
    "    user, movie, rate = row['userId'], row['movieId'], row['rating']\n",
    "    \n",
    "    if random.random() <= test_size:\n",
    "        test[user][movie] = int(rate)\n",
    "        testset_len += 1\n",
    "    else:\n",
    "        train[user][movie] = int(rate)\n",
    "        trainset_len += 1\n",
    "        \n",
    "print('train set size = %s' % trainset_len)\n",
    "print('test set size = %s\\n' % testset_len)"
   ]
  },
  {
   "cell_type": "code",
   "execution_count": 6,
   "metadata": {},
   "outputs": [],
   "source": [
    "def calculate_movie_popular(trainset):\n",
    "    movie_popular = defaultdict(int)\n",
    "\n",
    "    for user, movies in trainset.items():\n",
    "        for movie in movies:\n",
    "            # count item popularity\n",
    "            movie_popular[movie] += 1\n",
    "            \n",
    "    movie_count = len(movie_popular)\n",
    "    print('total movie number = %d' % movie_count)\n",
    "    return movie_popular, movie_count"
   ]
  },
  {
   "cell_type": "code",
   "execution_count": 7,
   "metadata": {},
   "outputs": [],
   "source": [
    "def create_model(trainset, n_rec_movie):\n",
    "\n",
    "    movie_popular, movie_count = calculate_movie_popular(trainset)\n",
    "    total_movies = list(movie_popular.keys())\n",
    "    movie_popular_sort = sorted(movie_popular.items(), key=itemgetter(1), reverse=True)\n",
    "    \n",
    "    return movie_popular, movie_count, movie_popular_sort"
   ]
  },
  {
   "cell_type": "code",
   "execution_count": 8,
   "metadata": {},
   "outputs": [],
   "source": [
    "def recommend(trainset, user, n_rec_movie):\n",
    "\n",
    "    N = n_rec_movie\n",
    "    \n",
    "    # Recommend N most popular movies for the user.\n",
    "    predict_movies = list()\n",
    "    watched_movies = trainset[user]\n",
    "    for movie, _ in movie_popular_sort:\n",
    "        if len(predict_movies) < N and movie not in watched_movies:\n",
    "            predict_movies.append(movie)\n",
    "    return predict_movies"
   ]
  },
  {
   "cell_type": "code",
   "execution_count": 9,
   "metadata": {},
   "outputs": [],
   "source": [
    "def score_test(trainset, testset, n_rec_movie):\n",
    "    \n",
    "    N = n_rec_movie\n",
    "    \n",
    "    # keep track\n",
    "    hit = 0\n",
    "    rec_count = 0\n",
    "    test_count = 0\n",
    "    \n",
    "    # varables for coverage\n",
    "    all_rec_movies = set()\n",
    "    \n",
    "    # varables for popularity\n",
    "    popular_sum = 0\n",
    "    \n",
    "    for i, user in enumerate(trainset):\n",
    "        test_movies = testset.get(user, {})\n",
    "        rec_movies = recommend(trainset, user, N)  # type:list\n",
    "        for movie in rec_movies:\n",
    "            if movie in test_movies:\n",
    "                hit += 1\n",
    "            popular_sum += math.log(1 + movie_popular[movie])\n",
    "            # log steps and times.\n",
    "        rec_count += N\n",
    "        test_count += len(test_movies)\n",
    "        \n",
    "    precision = hit / (1.0 * rec_count)\n",
    "    recall = hit / (1.0 * test_count)\n",
    "    coverage = len(all_rec_movies) / (1.0 * movie_count)\n",
    "    popularity = popular_sum / (1.0 * rec_count)\n",
    "    \n",
    "    print('\\nprecision = {}\\nrecall = {}\\ncoverage = {}\\npopularity = {}\\n'.format(precision, recall, coverage, popularity))"
   ]
  },
  {
   "cell_type": "code",
   "execution_count": 10,
   "metadata": {},
   "outputs": [
    {
     "name": "stdout",
     "output_type": "stream",
     "text": [
      "total movie number = 8982\n",
      "recommend for userid = 666:\n",
      "[356, 318, 296, 2571, 593, 260, 480, 110, 589, 527]\n",
      "\n",
      "precision = 0.15777414075286417\n",
      "recall = 0.04766378244746601\n",
      "coverage = 0.0\n",
      "popularity = 5.265997565747565\n",
      "\n"
     ]
    }
   ],
   "source": [
    "n_rec_movie = 10\n",
    "user = 666\n",
    "\n",
    "movie_popular, movie_count, movie_popular_sort = create_model(train, n_rec_movie)\n",
    "print(\"recommend for userid = %s:\" % user)\n",
    "print(recommend(train, user, n_rec_movie))\n",
    "score_test(train, test, n_rec_movie)"
   ]
  }
 ],
 "metadata": {
  "kernelspec": {
   "display_name": "Python 3",
   "language": "python",
   "name": "python3"
  },
  "language_info": {
   "codemirror_mode": {
    "name": "ipython",
    "version": 3
   },
   "file_extension": ".py",
   "mimetype": "text/x-python",
   "name": "python",
   "nbconvert_exporter": "python",
   "pygments_lexer": "ipython3",
   "version": "3.6.9"
  }
 },
 "nbformat": 4,
 "nbformat_minor": 2
}
